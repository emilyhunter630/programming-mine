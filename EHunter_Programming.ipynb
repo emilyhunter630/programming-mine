{
  "nbformat": 4,
  "nbformat_minor": 0,
  "metadata": {
    "colab": {
      "provenance": [],
      "authorship_tag": "ABX9TyO+yHWo9C0VJHw7HB2SmOeV",
      "include_colab_link": true
    },
    "kernelspec": {
      "name": "python3",
      "display_name": "Python 3"
    },
    "language_info": {
      "name": "python"
    }
  },
  "cells": [
    {
      "cell_type": "markdown",
      "metadata": {
        "id": "view-in-github",
        "colab_type": "text"
      },
      "source": [
        "<a href=\"https://colab.research.google.com/github/emilyhunter630/programming-mine/blob/main/EHunter_Programming.ipynb\" target=\"_parent\"><img src=\"https://colab.research.google.com/assets/colab-badge.svg\" alt=\"Open In Colab\"/></a>"
      ]
    },
    {
      "cell_type": "code",
      "execution_count": null,
      "metadata": {
        "id": "rT4kmXy9zMs3"
      },
      "outputs": [],
      "source": [
        "import numpy as np\n",
        "import matplotlib.pyplot as plt\n",
        "\n",
        "x = np.linspace(0,1,50)\n",
        "y = np.log(x)\n",
        "z = np.exp(x)\n",
        "plt.scatter(x, y, label=\"Natural Log\")\n",
        "\n",
        "plt.scatter(x, y, label=\"Natural Log\")\n",
        "plt.scatter(x, z, label=\"Exponential\")\n",
        "plt.xlabel(\"x\")\n",
        "plt.ylabel(\"y\")\n",
        "plt.title(\"Natural Log and Exponential Functions\")\n",
        "plt.legend(loc=\"lower right\")\n",
        "plt.show()\n",
        "\n",
        "x2 = np.linspace(-6.5,6.5,100)\n",
        "y_sin = np.sin(x2)\n",
        "y_cos = np.cos(x2)\n",
        "plt.scatter(x2, y_sin, label=\"sin\", color=\"blue\")\n",
        "plt.scatter(x2, y_cos, label=\"cos\", color=\"orange\")\n",
        "plt.show()\n",
        "\n",
        "x2 = np.linspace(-6.5,6.5,100)\n",
        "y_sin = np.sin(x2)\n",
        "y_cos = np.cos(x2)\n",
        "plt.plot(x2, y_sin, label=\"sin\")\n",
        "plt.plot(x2, y_cos, label=\"cos\")\n",
        "plt.xlabel(\"x\")\n",
        "plt.ylabel(\"y\")\n",
        "plt.title(\"Sin and Cos Functions\")\n",
        "plt.legend(loc=\"lower left\")\n",
        "plt.show()\n",
        "#This code was created with the help of ChatGBT"
      ]
    }
  ]
}